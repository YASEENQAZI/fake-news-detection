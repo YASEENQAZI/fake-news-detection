{
  "nbformat": 4,
  "nbformat_minor": 0,
  "metadata": {
    "colab": {
      "provenance": []
    },
    "kernelspec": {
      "name": "python3",
      "display_name": "Python 3"
    },
    "language_info": {
      "name": "python"
    }
  },
  "cells": [
    {
      "cell_type": "code",
      "execution_count": 1,
      "metadata": {
        "colab": {
          "base_uri": "https://localhost:8080/"
        },
        "id": "0HbTPOqucGDb",
        "outputId": "cbe0e4d4-52b0-4237-f572-20268e63166e"
      },
      "outputs": [
        {
          "output_type": "stream",
          "name": "stdout",
          "text": [
            "app.py and requirements.txt created successfully!\n"
          ]
        }
      ],
      "source": [
        "# app.py create karna\n",
        "app_code = \"\"\"\n",
        "import streamlit as st\n",
        "import joblib\n",
        "import re\n",
        "import nltk\n",
        "from nltk.corpus import stopwords\n",
        "from nltk.stem import WordNetLemmatizer\n",
        "\n",
        "# Download NLTK resources (only first run)\n",
        "nltk.download('stopwords')\n",
        "nltk.download('wordnet')\n",
        "\n",
        "# Load model and vectorizer\n",
        "model = joblib.load(\"fake_news_model.pkl\")\n",
        "vectorizer = joblib.load(\"tfidf_vectorizer.pkl\")\n",
        "\n",
        "# Preprocessing function\n",
        "stop_words = set(stopwords.words('english'))\n",
        "lemmatizer = WordNetLemmatizer()\n",
        "\n",
        "def preprocess_text(text):\n",
        "    text = text.lower()\n",
        "    text = re.sub(r'[^a-z\\\\\\\\s]', '', text)\n",
        "    tokens = text.split()\n",
        "    tokens = [lemmatizer.lemmatize(w) for w in tokens if w not in stop_words]\n",
        "    return \" \".join(tokens)\n",
        "\n",
        "# Streamlit App UI\n",
        "st.title(\"Fake News Detection App\")\n",
        "st.write(\"Paste any news article below to check if it is **Fake** or **Real**.\")\n",
        "\n",
        "user_input = st.text_area(\"Enter News Article Text\")\n",
        "\n",
        "if st.button(\"Classify\"):\n",
        "    if user_input.strip() == \"\":\n",
        "        st.warning(\"Please enter some text first!\")\n",
        "    else:\n",
        "        clean_text = preprocess_text(user_input)\n",
        "        vectorized_text = vectorizer.transform([clean_text])\n",
        "        prediction = model.predict(vectorized_text)[0]\n",
        "        if prediction == 1:\n",
        "            st.success(\"This article looks **Real News** 📰\")\n",
        "        else:\n",
        "            st.error(\"This article looks **Fake News** 🚨\")\n",
        "\"\"\"\n",
        "\n",
        "with open(\"app.py\", \"w\") as f:\n",
        "    f.write(app_code)\n",
        "\n",
        "# requirements.txt create karna\n",
        "req_content = \"streamlit\\nscikit-learn\\njoblib\\nnltk\\n\"\n",
        "with open(\"requirements.txt\", \"w\") as f:\n",
        "    f.write(req_content)\n",
        "\n",
        "print(\"app.py and requirements.txt created successfully!\")\n"
      ]
    }
  ]
}